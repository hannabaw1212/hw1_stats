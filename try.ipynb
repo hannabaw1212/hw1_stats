{
 "cells": [
  {
   "cell_type": "code",
   "id": "initial_id",
   "metadata": {
    "collapsed": true,
    "ExecuteTime": {
     "end_time": "2024-05-29T20:04:29.367014Z",
     "start_time": "2024-05-29T20:04:29.352881Z"
    }
   },
   "source": [
    "# Define the toy dataset as a list of tuples (correct name, predicted name)\n",
    "toy_dataset = [\n",
    "    (\"John\", \"John\"),\n",
    "    (\"Emily\", \"Emily\"),\n",
    "    (\"Michael\", \"Emma\"),\n",
    "    (\"Emma\", \"Emma\"),\n",
    "    (\"David\", \"Sophia\"),\n",
    "    (\"Sophia\", \"Sophia\"),\n",
    "    (\"Daniel\", \"Daniel\"),\n",
    "    (\"Olivia\", \"Olivia\"),\n",
    "    (\"Matthew\", \"Ava\"),\n",
    "    (\"Ava\", \"Matthew\"),\n",
    "    (\"Not John\", \"John\"),\n",
    "    (\"Not Emily\", \"Emily\"),\n",
    "    (\"Not Michael\", \"Michael\"),\n",
    "    (\"Not Emma\", \"Emma\"),\n",
    "    (\"Not David\", \"David\"),\n",
    "    (\"Not Sophia\", \"Not Sophia\"),\n",
    "    (\"Not Daniel\", \"Not Daniel\"),\n",
    "    (\"Not Olivia\", \"Not Olivia\"),\n",
    "    (\"Not Matthew\", \"Not Matthew\"),\n",
    "    (\"Not Ava\", \"Not Ava\")\n",
    "]\n",
    "\n",
    "# Initialize counters for each type of outcome\n",
    "true_positives = 0\n",
    "false_negatives = 0\n",
    "false_positives = 0\n",
    "true_negatives = 0\n",
    "\n",
    "# Analyze the dataset to calculate TP, FN, FP, TN\n",
    "for correct, predicted in toy_dataset:\n",
    "    if \"Not \" not in correct:\n",
    "        if correct == predicted:\n",
    "            true_positives += 1\n",
    "        else:\n",
    "            false_negatives += 1\n",
    "    else:\n",
    "        if correct == predicted:\n",
    "            true_negatives += 1\n",
    "        else:\n",
    "            false_positives += 1\n",
    "\n",
    "# Calculate FPR and FNR\n",
    "false_positive_rate = false_positives / (false_positives + true_negatives)\n",
    "false_negative_rate = false_negatives / (true_positives + false_negatives)\n",
    "\n",
    "true_positives, false_negatives, false_positives, true_negatives, false_positive_rate, false_negative_rate\n"
   ],
   "outputs": [
    {
     "data": {
      "text/plain": [
       "(6, 4, 5, 5, 0.5, 0.4)"
      ]
     },
     "execution_count": 1,
     "metadata": {},
     "output_type": "execute_result"
    }
   ],
   "execution_count": 1
  },
  {
   "metadata": {
    "ExecuteTime": {
     "end_time": "2024-05-31T11:12:34.681697Z",
     "start_time": "2024-05-31T11:12:34.670841Z"
    }
   },
   "cell_type": "code",
   "source": [
    "import scipy as sp\n",
    "import numpy as np\n",
    "from IPython.display import display, Latex\n",
    "import pandas as pd"
   ],
   "id": "893529c0414d0562",
   "outputs": [],
   "execution_count": 27
  },
  {
   "metadata": {
    "ExecuteTime": {
     "end_time": "2024-05-30T21:19:09.976775Z",
     "start_time": "2024-05-30T21:19:09.944366Z"
    }
   },
   "cell_type": "code",
   "source": [
    "z_0_95 = sp.stats.norm.ppf(0.95)\n",
    "200 + z_0_95 * (30 / np.sqrt(225)) "
   ],
   "id": "844ffd2ee8b909cb",
   "outputs": [
    {
     "data": {
      "text/plain": [
       "203.28970725390295"
      ]
     },
     "execution_count": 6,
     "metadata": {},
     "output_type": "execute_result"
    }
   ],
   "execution_count": 6
  },
  {
   "metadata": {
    "ExecuteTime": {
     "end_time": "2024-05-30T21:19:27.021193Z",
     "start_time": "2024-05-30T21:19:26.995243Z"
    }
   },
   "cell_type": "code",
   "source": "200 - z_0_95 * (30 / np.sqrt(225)) \n",
   "id": "a55bd3f130604fd2",
   "outputs": [
    {
     "data": {
      "text/plain": [
       "196.71029274609705"
      ]
     },
     "execution_count": 7,
     "metadata": {},
     "output_type": "execute_result"
    }
   ],
   "execution_count": 7
  },
  {
   "metadata": {
    "ExecuteTime": {
     "end_time": "2024-05-30T21:40:39.912476Z",
     "start_time": "2024-05-30T21:40:39.900842Z"
    }
   },
   "cell_type": "code",
   "source": [
    "z = (203.849 - 195) / (30 / np.sqrt(225))\n",
    "z"
   ],
   "id": "42a12cb631d6b486",
   "outputs": [
    {
     "data": {
      "text/plain": [
       "4.424499999999995"
      ]
     },
     "execution_count": 33,
     "metadata": {},
     "output_type": "execute_result"
    }
   ],
   "execution_count": 33
  },
  {
   "metadata": {
    "ExecuteTime": {
     "end_time": "2024-05-30T21:40:42.031013Z",
     "start_time": "2024-05-30T21:40:42.016394Z"
    }
   },
   "cell_type": "code",
   "source": [
    "z_2 = (196.511 - 195) / (30 / np.sqrt(225))\n",
    "z_2"
   ],
   "id": "74175067c9af8c02",
   "outputs": [
    {
     "data": {
      "text/plain": [
       "0.7554999999999978"
      ]
     },
     "execution_count": 34,
     "metadata": {},
     "output_type": "execute_result"
    }
   ],
   "execution_count": 34
  },
  {
   "metadata": {
    "ExecuteTime": {
     "end_time": "2024-05-30T21:41:19.681962Z",
     "start_time": "2024-05-30T21:41:19.666857Z"
    }
   },
   "cell_type": "code",
   "source": "sp.stats.norm.cdf(z_2)",
   "id": "341327f6c3cb98a1",
   "outputs": [
    {
     "data": {
      "text/plain": [
       "0.7750254838399737"
      ]
     },
     "execution_count": 35,
     "metadata": {},
     "output_type": "execute_result"
    }
   ],
   "execution_count": 35
  },
  {
   "metadata": {
    "ExecuteTime": {
     "end_time": "2024-05-30T21:34:04.490364Z",
     "start_time": "2024-05-30T21:34:04.368513Z"
    }
   },
   "cell_type": "code",
   "source": "print(1 - sp.stats.norm.cdf(z) + sp.stats.norm.cdf(z_2))\n",
   "id": "8c3dab7124d5e9e",
   "outputs": [
    {
     "name": "stdout",
     "output_type": "stream",
     "text": [
      "0.7750303171351662\n"
     ]
    }
   ],
   "execution_count": 32
  },
  {
   "metadata": {
    "ExecuteTime": {
     "end_time": "2024-05-30T21:29:12.716640Z",
     "start_time": "2024-05-30T21:29:12.682305Z"
    }
   },
   "cell_type": "code",
   "source": "sp.stats.norm.cdf(0.71)",
   "id": "9302233b360687a8",
   "outputs": [
    {
     "data": {
      "text/plain": [
       "0.7611479319100133"
      ]
     },
     "execution_count": 18,
     "metadata": {},
     "output_type": "execute_result"
    }
   ],
   "execution_count": 18
  },
  {
   "metadata": {
    "ExecuteTime": {
     "end_time": "2024-05-30T22:37:38.938339Z",
     "start_time": "2024-05-30T22:37:38.916943Z"
    }
   },
   "cell_type": "code",
   "source": "1 - sp.stats.norm.cdf(z)",
   "id": "cab8e786e31a20e7",
   "outputs": [
    {
     "data": {
      "text/plain": [
       "4.8332951925189604e-06"
      ]
     },
     "execution_count": 37,
     "metadata": {},
     "output_type": "execute_result"
    }
   ],
   "execution_count": 37
  },
  {
   "metadata": {
    "ExecuteTime": {
     "end_time": "2024-05-30T22:38:40.033429Z",
     "start_time": "2024-05-30T22:38:40.013495Z"
    }
   },
   "cell_type": "code",
   "source": "sp.stats.norm.cdf(round((196.511 - 195) / (30 / np.sqrt(225)), 2))",
   "id": "bf045178dddafd10",
   "outputs": [
    {
     "data": {
      "text/plain": [
       "0.7763727075624006"
      ]
     },
     "execution_count": 42,
     "metadata": {},
     "output_type": "execute_result"
    }
   ],
   "execution_count": 42
  },
  {
   "metadata": {
    "ExecuteTime": {
     "end_time": "2024-05-31T10:48:24.898575Z",
     "start_time": "2024-05-31T10:48:24.882443Z"
    }
   },
   "cell_type": "code",
   "source": [
    "Z_0_075 = sp.stats.norm.ppf(0.975)\n",
    "se_hat = 0.011\n",
    "theta = 0.5\n",
    "\n",
    "display(Latex(r\"$\\theta \\in$ \" + f\"({0.480 - (Z_0_075 * se_hat)}, {0.480 + (Z_0_075 * se_hat)})\"))"
   ],
   "id": "55611e712ef40107",
   "outputs": [
    {
     "data": {
      "text/plain": [
       "<IPython.core.display.Latex object>"
      ],
      "text/latex": "$\\theta \\in$ (0.4584403961700594, 0.5015596038299406)"
     },
     "metadata": {},
     "output_type": "display_data"
    }
   ],
   "execution_count": 23
  },
  {
   "metadata": {
    "ExecuteTime": {
     "end_time": "2024-05-31T11:14:18.910430Z",
     "start_time": "2024-05-31T11:14:18.870192Z"
    }
   },
   "cell_type": "code",
   "source": [
    "import numpy as np\n",
    "\n",
    "# Data: Rows are weeks, columns are ethnic groups\n",
    "data = np.array([\n",
    "    [55, 141],  # Week -2\n",
    "    [33, 145],  # Week -1\n",
    "    [70, 139],  # Week 1\n",
    "    [49, 161]   # Week 2\n",
    "])\n",
    "\n",
    "df = pd.DataFrame(data, columns=['Chinese', 'Jewish'], index=['Week -2', 'Week -1', 'Week 1', 'Week 2'])\n",
    "\n",
    "\n",
    "# Step 2: Calculate totals for rows and columns\n",
    "row_totals = data.sum(axis=1)\n",
    "column_totals = data.sum(axis=0)\n",
    "grand_total = data.sum()\n",
    "\n",
    "# Step 3: Compute expected counts\n",
    "expected = np.outer(row_totals, column_totals) / grand_total\n",
    "\n",
    "# Step 4: Calculate the Chi-square statistic\n",
    "chi_square_stat = ((data - expected) ** 2 / expected).sum()\n",
    "\n",
    "# Degrees of freedom: (num_rows - 1) * (num_columns - 1)\n",
    "degrees_of_freedom = (data.shape[0] - 1) * (data.shape[1] - 1)\n",
    "\n",
    "# Step 5: Determine significance (using critical value or p-value approach)\n",
    "# We'll calculate the p-value using an approximation by the chi-square distribution\n",
    "from scipy.stats import chi2\n",
    "p_value = 1 - chi2.cdf(chi_square_stat, degrees_of_freedom)\n",
    "\n",
    "print(f\"Chi-square Statistic: {chi_square_stat:.2f}\")\n",
    "print(f\"Degrees of Freedom: {degrees_of_freedom}\")\n",
    "print(f\"P-value: {p_value:.4f}\")\n",
    "display(df)"
   ],
   "id": "c7584b6e9afa1232",
   "outputs": [
    {
     "name": "stdout",
     "output_type": "stream",
     "text": [
      "Chi-square Statistic: 12.42\n",
      "Degrees of Freedom: 3\n",
      "P-value: 0.0061\n"
     ]
    },
    {
     "data": {
      "text/plain": [
       "         Chinese  Jewish\n",
       "Week -2       55     141\n",
       "Week -1       33     145\n",
       "Week 1        70     139\n",
       "Week 2        49     161"
      ],
      "text/html": [
       "<div>\n",
       "<style scoped>\n",
       "    .dataframe tbody tr th:only-of-type {\n",
       "        vertical-align: middle;\n",
       "    }\n",
       "\n",
       "    .dataframe tbody tr th {\n",
       "        vertical-align: top;\n",
       "    }\n",
       "\n",
       "    .dataframe thead th {\n",
       "        text-align: right;\n",
       "    }\n",
       "</style>\n",
       "<table border=\"1\" class=\"dataframe\">\n",
       "  <thead>\n",
       "    <tr style=\"text-align: right;\">\n",
       "      <th></th>\n",
       "      <th>Chinese</th>\n",
       "      <th>Jewish</th>\n",
       "    </tr>\n",
       "  </thead>\n",
       "  <tbody>\n",
       "    <tr>\n",
       "      <th>Week -2</th>\n",
       "      <td>55</td>\n",
       "      <td>141</td>\n",
       "    </tr>\n",
       "    <tr>\n",
       "      <th>Week -1</th>\n",
       "      <td>33</td>\n",
       "      <td>145</td>\n",
       "    </tr>\n",
       "    <tr>\n",
       "      <th>Week 1</th>\n",
       "      <td>70</td>\n",
       "      <td>139</td>\n",
       "    </tr>\n",
       "    <tr>\n",
       "      <th>Week 2</th>\n",
       "      <td>49</td>\n",
       "      <td>161</td>\n",
       "    </tr>\n",
       "  </tbody>\n",
       "</table>\n",
       "</div>"
      ]
     },
     "metadata": {},
     "output_type": "display_data"
    }
   ],
   "execution_count": 31
  },
  {
   "metadata": {},
   "cell_type": "markdown",
   "source": "",
   "id": "c318e60fb46e75ef"
  },
  {
   "metadata": {},
   "cell_type": "markdown",
   "source": "",
   "id": "a985dadc458539b6"
  },
  {
   "metadata": {
    "ExecuteTime": {
     "end_time": "2024-05-31T11:14:53.879689Z",
     "start_time": "2024-05-31T11:14:53.848395Z"
    }
   },
   "cell_type": "code",
   "source": [
    "# Chi-square test\n",
    "from scipy.stats import chi2_contingency\n",
    "chi2, p_value, df, expected = chi2_contingency(df)\n",
    "\n",
    "print(f\"Chi-square Statistic: {chi2:.2f}\")\n",
    "print(f\"Degrees of Freedom: {df}\")\n",
    "print(f\"P-value: {p_value:.4f}\")\n",
    "print(f\"Expected Counts:\\n{expected}\")\n"
   ],
   "id": "894d8f22d134e25a",
   "outputs": [
    {
     "name": "stdout",
     "output_type": "stream",
     "text": [
      "Chi-square Statistic: 12.42\n",
      "Degrees of Freedom: 3\n",
      "P-value: 0.0061\n",
      "Expected Counts:\n",
      "[[ 51.16267339 144.83732661]\n",
      " [ 46.46406053 131.53593947]\n",
      " [ 54.55611602 154.44388398]\n",
      " [ 54.81715006 155.18284994]]\n"
     ]
    }
   ],
   "execution_count": 33
  },
  {
   "metadata": {
    "ExecuteTime": {
     "end_time": "2024-05-31T12:21:03.704975Z",
     "start_time": "2024-05-31T12:21:03.551519Z"
    }
   },
   "cell_type": "code",
   "source": [
    "import numpy as np\n",
    "from scipy.stats import mannwhitneyu\n",
    "\n",
    "group_A_scores = np.array([3,4,2,6,2,5])  \n",
    "group_B_scores = np.array([9,7,5,10,6,8])  \n",
    "\n",
    "statistic, p_value = mannwhitneyu(group_A_scores, group_B_scores, alternative='two-sided')\n",
    "\n",
    "# Output the results\n",
    "print(\"Mann-Whitney U statistic:\", statistic)\n",
    "print(\"P-value:\", p_value)\n"
   ],
   "id": "948b6e9a5e4f4eb3",
   "outputs": [
    {
     "name": "stdout",
     "output_type": "stream",
     "text": [
      "Mann-Whitney U statistic: 2.0\n",
      "P-value: 0.012591911490379705\n"
     ]
    }
   ],
   "execution_count": 34
  },
  {
   "metadata": {},
   "cell_type": "code",
   "outputs": [],
   "execution_count": null,
   "source": "",
   "id": "dc69e9402c4f3223"
  },
  {
   "metadata": {},
   "cell_type": "code",
   "outputs": [],
   "execution_count": null,
   "source": "",
   "id": "88013d8f041620eb"
  },
  {
   "metadata": {
    "ExecuteTime": {
     "end_time": "2024-05-31T14:19:57.685877Z",
     "start_time": "2024-05-31T14:19:57.663538Z"
    }
   },
   "cell_type": "code",
   "source": [
    "critical_Value = sp.stats.f.ppf(1 - 0.05, 2, 15)\n",
    "critical_Value"
   ],
   "id": "c04e3a82ca83ba05",
   "outputs": [
    {
     "data": {
      "text/plain": [
       "3.6823203436732412"
      ]
     },
     "execution_count": 44,
     "metadata": {},
     "output_type": "execute_result"
    }
   ],
   "execution_count": 44
  },
  {
   "metadata": {
    "ExecuteTime": {
     "end_time": "2024-05-31T18:43:40.243934Z",
     "start_time": "2024-05-31T18:43:40.220507Z"
    }
   },
   "cell_type": "code",
   "source": "50 - sp.stats.norm.ppf(0.95) * (6 / np.sqrt(81))",
   "id": "7a3a2ee7b1e9891b",
   "outputs": [
    {
     "data": {
      "text/plain": [
       "48.90343091536568"
      ]
     },
     "execution_count": 51,
     "metadata": {},
     "output_type": "execute_result"
    }
   ],
   "execution_count": 51
  },
  {
   "metadata": {
    "ExecuteTime": {
     "end_time": "2024-05-31T20:54:39.569837Z",
     "start_time": "2024-05-31T20:54:39.552470Z"
    }
   },
   "cell_type": "code",
   "source": "1 - sp.stats.norm.cdf(2.72)",
   "id": "7b65b0f35cb7cd1a",
   "outputs": [
    {
     "data": {
      "text/plain": [
       "0.003264095815891266"
      ]
     },
     "execution_count": 56,
     "metadata": {},
     "output_type": "execute_result"
    }
   ],
   "execution_count": 56
  }
 ],
 "metadata": {
  "kernelspec": {
   "display_name": "Python 3",
   "language": "python",
   "name": "python3"
  },
  "language_info": {
   "codemirror_mode": {
    "name": "ipython",
    "version": 2
   },
   "file_extension": ".py",
   "mimetype": "text/x-python",
   "name": "python",
   "nbconvert_exporter": "python",
   "pygments_lexer": "ipython2",
   "version": "2.7.6"
  }
 },
 "nbformat": 4,
 "nbformat_minor": 5
}
